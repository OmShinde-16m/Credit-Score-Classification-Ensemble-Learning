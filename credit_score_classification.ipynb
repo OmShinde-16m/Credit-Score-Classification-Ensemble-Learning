{
  "cells": [
    {
      "cell_type": "code",
      "execution_count": null,
      "metadata": {
        "colab": {
          "base_uri": "https://localhost:8080/",
          "height": 89
        },
        "id": "OnzpW-uLG8qc",
        "outputId": "06ed8b4b-7296-41af-8ae8-7f14ceb6d10d"
      },
      "outputs": [
        {
          "output_type": "display_data",
          "data": {
            "text/plain": [
              "<IPython.core.display.HTML object>"
            ],
            "text/html": [
              "\n",
              "     <input type=\"file\" id=\"files-e3b3cc13-9150-42aa-978f-a8bd3f89a926\" name=\"files[]\" multiple disabled\n",
              "        style=\"border:none\" />\n",
              "     <output id=\"result-e3b3cc13-9150-42aa-978f-a8bd3f89a926\">\n",
              "      Upload widget is only available when the cell has been executed in the\n",
              "      current browser session. Please rerun this cell to enable.\n",
              "      </output>\n",
              "      <script>// Copyright 2017 Google LLC\n",
              "//\n",
              "// Licensed under the Apache License, Version 2.0 (the \"License\");\n",
              "// you may not use this file except in compliance with the License.\n",
              "// You may obtain a copy of the License at\n",
              "//\n",
              "//      http://www.apache.org/licenses/LICENSE-2.0\n",
              "//\n",
              "// Unless required by applicable law or agreed to in writing, software\n",
              "// distributed under the License is distributed on an \"AS IS\" BASIS,\n",
              "// WITHOUT WARRANTIES OR CONDITIONS OF ANY KIND, either express or implied.\n",
              "// See the License for the specific language governing permissions and\n",
              "// limitations under the License.\n",
              "\n",
              "/**\n",
              " * @fileoverview Helpers for google.colab Python module.\n",
              " */\n",
              "(function(scope) {\n",
              "function span(text, styleAttributes = {}) {\n",
              "  const element = document.createElement('span');\n",
              "  element.textContent = text;\n",
              "  for (const key of Object.keys(styleAttributes)) {\n",
              "    element.style[key] = styleAttributes[key];\n",
              "  }\n",
              "  return element;\n",
              "}\n",
              "\n",
              "// Max number of bytes which will be uploaded at a time.\n",
              "const MAX_PAYLOAD_SIZE = 100 * 1024;\n",
              "\n",
              "function _uploadFiles(inputId, outputId) {\n",
              "  const steps = uploadFilesStep(inputId, outputId);\n",
              "  const outputElement = document.getElementById(outputId);\n",
              "  // Cache steps on the outputElement to make it available for the next call\n",
              "  // to uploadFilesContinue from Python.\n",
              "  outputElement.steps = steps;\n",
              "\n",
              "  return _uploadFilesContinue(outputId);\n",
              "}\n",
              "\n",
              "// This is roughly an async generator (not supported in the browser yet),\n",
              "// where there are multiple asynchronous steps and the Python side is going\n",
              "// to poll for completion of each step.\n",
              "// This uses a Promise to block the python side on completion of each step,\n",
              "// then passes the result of the previous step as the input to the next step.\n",
              "function _uploadFilesContinue(outputId) {\n",
              "  const outputElement = document.getElementById(outputId);\n",
              "  const steps = outputElement.steps;\n",
              "\n",
              "  const next = steps.next(outputElement.lastPromiseValue);\n",
              "  return Promise.resolve(next.value.promise).then((value) => {\n",
              "    // Cache the last promise value to make it available to the next\n",
              "    // step of the generator.\n",
              "    outputElement.lastPromiseValue = value;\n",
              "    return next.value.response;\n",
              "  });\n",
              "}\n",
              "\n",
              "/**\n",
              " * Generator function which is called between each async step of the upload\n",
              " * process.\n",
              " * @param {string} inputId Element ID of the input file picker element.\n",
              " * @param {string} outputId Element ID of the output display.\n",
              " * @return {!Iterable<!Object>} Iterable of next steps.\n",
              " */\n",
              "function* uploadFilesStep(inputId, outputId) {\n",
              "  const inputElement = document.getElementById(inputId);\n",
              "  inputElement.disabled = false;\n",
              "\n",
              "  const outputElement = document.getElementById(outputId);\n",
              "  outputElement.innerHTML = '';\n",
              "\n",
              "  const pickedPromise = new Promise((resolve) => {\n",
              "    inputElement.addEventListener('change', (e) => {\n",
              "      resolve(e.target.files);\n",
              "    });\n",
              "  });\n",
              "\n",
              "  const cancel = document.createElement('button');\n",
              "  inputElement.parentElement.appendChild(cancel);\n",
              "  cancel.textContent = 'Cancel upload';\n",
              "  const cancelPromise = new Promise((resolve) => {\n",
              "    cancel.onclick = () => {\n",
              "      resolve(null);\n",
              "    };\n",
              "  });\n",
              "\n",
              "  // Wait for the user to pick the files.\n",
              "  const files = yield {\n",
              "    promise: Promise.race([pickedPromise, cancelPromise]),\n",
              "    response: {\n",
              "      action: 'starting',\n",
              "    }\n",
              "  };\n",
              "\n",
              "  cancel.remove();\n",
              "\n",
              "  // Disable the input element since further picks are not allowed.\n",
              "  inputElement.disabled = true;\n",
              "\n",
              "  if (!files) {\n",
              "    return {\n",
              "      response: {\n",
              "        action: 'complete',\n",
              "      }\n",
              "    };\n",
              "  }\n",
              "\n",
              "  for (const file of files) {\n",
              "    const li = document.createElement('li');\n",
              "    li.append(span(file.name, {fontWeight: 'bold'}));\n",
              "    li.append(span(\n",
              "        `(${file.type || 'n/a'}) - ${file.size} bytes, ` +\n",
              "        `last modified: ${\n",
              "            file.lastModifiedDate ? file.lastModifiedDate.toLocaleDateString() :\n",
              "                                    'n/a'} - `));\n",
              "    const percent = span('0% done');\n",
              "    li.appendChild(percent);\n",
              "\n",
              "    outputElement.appendChild(li);\n",
              "\n",
              "    const fileDataPromise = new Promise((resolve) => {\n",
              "      const reader = new FileReader();\n",
              "      reader.onload = (e) => {\n",
              "        resolve(e.target.result);\n",
              "      };\n",
              "      reader.readAsArrayBuffer(file);\n",
              "    });\n",
              "    // Wait for the data to be ready.\n",
              "    let fileData = yield {\n",
              "      promise: fileDataPromise,\n",
              "      response: {\n",
              "        action: 'continue',\n",
              "      }\n",
              "    };\n",
              "\n",
              "    // Use a chunked sending to avoid message size limits. See b/62115660.\n",
              "    let position = 0;\n",
              "    do {\n",
              "      const length = Math.min(fileData.byteLength - position, MAX_PAYLOAD_SIZE);\n",
              "      const chunk = new Uint8Array(fileData, position, length);\n",
              "      position += length;\n",
              "\n",
              "      const base64 = btoa(String.fromCharCode.apply(null, chunk));\n",
              "      yield {\n",
              "        response: {\n",
              "          action: 'append',\n",
              "          file: file.name,\n",
              "          data: base64,\n",
              "        },\n",
              "      };\n",
              "\n",
              "      let percentDone = fileData.byteLength === 0 ?\n",
              "          100 :\n",
              "          Math.round((position / fileData.byteLength) * 100);\n",
              "      percent.textContent = `${percentDone}% done`;\n",
              "\n",
              "    } while (position < fileData.byteLength);\n",
              "  }\n",
              "\n",
              "  // All done.\n",
              "  yield {\n",
              "    response: {\n",
              "      action: 'complete',\n",
              "    }\n",
              "  };\n",
              "}\n",
              "\n",
              "scope.google = scope.google || {};\n",
              "scope.google.colab = scope.google.colab || {};\n",
              "scope.google.colab._files = {\n",
              "  _uploadFiles,\n",
              "  _uploadFilesContinue,\n",
              "};\n",
              "})(self);\n",
              "</script> "
            ]
          },
          "metadata": {}
        },
        {
          "output_type": "stream",
          "name": "stdout",
          "text": [
            "Saving archive (3).zip to archive (3).zip\n"
          ]
        },
        {
          "output_type": "execute_result",
          "data": {
            "text/plain": [
              "['test.csv', 'train.csv']"
            ]
          },
          "metadata": {},
          "execution_count": 2
        }
      ],
      "source": [
        "from google.colab import files\n",
        "uploaded = files.upload()  # Upload your archive (3).zip\n",
        "\n",
        "import zipfile\n",
        "import os\n",
        "\n",
        "with zipfile.ZipFile(\"archive (3).zip\", 'r') as zip_ref:\n",
        "    zip_ref.extractall(\"credit_data\")\n",
        "\n",
        "os.listdir(\"credit_data\")  # Show extracted files (train.csv, test.csv etc.)\n"
      ]
    },
    {
      "cell_type": "code",
      "execution_count": null,
      "metadata": {
        "colab": {
          "base_uri": "https://localhost:8080/"
        },
        "id": "AK_sNMocGXQj",
        "outputId": "de27297f-da6b-41ac-a31a-c2270031a390"
      },
      "outputs": [
        {
          "output_type": "stream",
          "name": "stderr",
          "text": [
            "<ipython-input-3-34f294a6f29a>:17: DtypeWarning: Columns (26) have mixed types. Specify dtype option on import or set low_memory=False.\n",
            "  train_df = pd.read_csv(\"credit_data/train.csv\")   # or adjust path based on extracted content\n"
          ]
        },
        {
          "output_type": "stream",
          "name": "stdout",
          "text": [
            "       Monthly_Inhand_Salary  Num_Bank_Accounts  Num_Credit_Card  \\\n",
            "count           84998.000000      100000.000000     100000.00000   \n",
            "mean             4194.170850          17.091280         22.47443   \n",
            "std              3183.686167         117.404834        129.05741   \n",
            "min               303.645417          -1.000000          0.00000   \n",
            "25%              1625.568229           3.000000          4.00000   \n",
            "50%              3093.745000           6.000000          5.00000   \n",
            "75%              5957.448333           7.000000          7.00000   \n",
            "max             15204.633333        1798.000000       1499.00000   \n",
            "\n",
            "       Interest_Rate  Delay_from_due_date  Num_Credit_Inquiries  \\\n",
            "count  100000.000000        100000.000000          98035.000000   \n",
            "mean       72.466040            21.068780             27.754251   \n",
            "std       466.422621            14.860104            193.177339   \n",
            "min         1.000000            -5.000000              0.000000   \n",
            "25%         8.000000            10.000000              3.000000   \n",
            "50%        13.000000            18.000000              6.000000   \n",
            "75%        20.000000            28.000000              9.000000   \n",
            "max      5797.000000            67.000000           2597.000000   \n",
            "\n",
            "       Credit_Utilization_Ratio  Total_EMI_per_month  \n",
            "count             100000.000000        100000.000000  \n",
            "mean                  32.285173          1403.118217  \n",
            "std                    5.116875          8306.041270  \n",
            "min                   20.000000             0.000000  \n",
            "25%                   28.052567            30.306660  \n",
            "50%                   32.305784            69.249473  \n",
            "75%                   36.496663           161.224249  \n",
            "max                   50.000000         82331.000000  \n"
          ]
        }
      ],
      "source": [
        "import pandas as pd\n",
        "import numpy as np\n",
        "import matplotlib.pyplot as plt\n",
        "import seaborn as sns\n",
        "\n",
        "from sklearn.model_selection import train_test_split\n",
        "from sklearn.preprocessing import StandardScaler, LabelEncoder\n",
        "from sklearn.impute import SimpleImputer\n",
        "from sklearn.metrics import accuracy_score, f1_score, recall_score\n",
        "from sklearn.neighbors import KNeighborsClassifier\n",
        "from sklearn.svm import SVC\n",
        "from sklearn.cluster import KMeans\n",
        "from sklearn.metrics import silhouette_score\n",
        "\n",
        "# Load dataset\n",
        "\n",
        "train_df = pd.read_csv(\"credit_data/train.csv\")   # or adjust path based on extracted content\n",
        "test_df = pd.read_csv(\"credit_data/test.csv\")     # if available\n",
        "\n",
        "print(train_df.describe())\n"
      ]
    },
    {
      "cell_type": "code",
      "execution_count": null,
      "metadata": {
        "colab": {
          "base_uri": "https://localhost:8080/"
        },
        "id": "uxMlzgblGomp",
        "outputId": "1ad80e40-1b60-4fed-9d00-a30a04a7d6d9"
      },
      "outputs": [
        {
          "name": "stderr",
          "output_type": "stream",
          "text": [
            "<ipython-input-7-6d3f482b8cba>:5: DtypeWarning: Columns (26) have mixed types. Specify dtype option on import or set low_memory=False.\n",
            "  train_df = pd.read_csv(\"credit_data/train.csv\")\n"
          ]
        },
        {
          "name": "stdout",
          "output_type": "stream",
          "text": [
            "Train nulls:\n",
            " ID                              0\n",
            "Customer_ID                     0\n",
            "Month                           0\n",
            "Name                         9985\n",
            "Age                             0\n",
            "SSN                             0\n",
            "Occupation                      0\n",
            "Annual_Income                   0\n",
            "Monthly_Inhand_Salary       15002\n",
            "Num_Bank_Accounts               0\n",
            "Num_Credit_Card                 0\n",
            "Interest_Rate                   0\n",
            "Num_of_Loan                     0\n",
            "Type_of_Loan                11408\n",
            "Delay_from_due_date             0\n",
            "Num_of_Delayed_Payment       7002\n",
            "Changed_Credit_Limit            0\n",
            "Num_Credit_Inquiries         1965\n",
            "Credit_Mix                      0\n",
            "Outstanding_Debt                0\n",
            "Credit_Utilization_Ratio        0\n",
            "Credit_History_Age           9030\n",
            "Payment_of_Min_Amount           0\n",
            "Total_EMI_per_month             0\n",
            "Amount_invested_monthly      4479\n",
            "Payment_Behaviour               0\n",
            "Monthly_Balance              1200\n",
            "Credit_Score                    0\n",
            "dtype: int64\n",
            "Test nulls:\n",
            " ID                             0\n",
            "Customer_ID                    0\n",
            "Month                          0\n",
            "Name                        5015\n",
            "Age                            0\n",
            "SSN                            0\n",
            "Occupation                     0\n",
            "Annual_Income                  0\n",
            "Monthly_Inhand_Salary       7498\n",
            "Num_Bank_Accounts              0\n",
            "Num_Credit_Card                0\n",
            "Interest_Rate                  0\n",
            "Num_of_Loan                    0\n",
            "Type_of_Loan                5704\n",
            "Delay_from_due_date            0\n",
            "Num_of_Delayed_Payment      3498\n",
            "Changed_Credit_Limit           0\n",
            "Num_Credit_Inquiries        1035\n",
            "Credit_Mix                     0\n",
            "Outstanding_Debt               0\n",
            "Credit_Utilization_Ratio       0\n",
            "Credit_History_Age          4470\n",
            "Payment_of_Min_Amount          0\n",
            "Total_EMI_per_month            0\n",
            "Amount_invested_monthly     2271\n",
            "Payment_Behaviour              0\n",
            "Monthly_Balance              562\n",
            "dtype: int64\n"
          ]
        },
        {
          "name": "stderr",
          "output_type": "stream",
          "text": [
            "<ipython-input-7-6d3f482b8cba>:13: FutureWarning: DataFrame.fillna with 'method' is deprecated and will raise in a future version. Use obj.ffill() or obj.bfill() instead.\n",
            "  train_df.fillna(method='ffill', inplace=True)\n",
            "<ipython-input-7-6d3f482b8cba>:14: FutureWarning: DataFrame.fillna with 'method' is deprecated and will raise in a future version. Use obj.ffill() or obj.bfill() instead.\n",
            "  test_df.fillna(method='ffill', inplace=True)\n"
          ]
        }
      ],
      "source": [
        "import pandas as pd\n",
        "from sklearn.preprocessing import LabelEncoder, StandardScaler\n",
        "\n",
        "# Load CSVs\n",
        "train_df = pd.read_csv(\"credit_data/train.csv\")\n",
        "test_df = pd.read_csv(\"credit_data/test.csv\")\n",
        "\n",
        "# Optional: Check for nulls\n",
        "print(\"Train nulls:\\n\", train_df.isnull().sum())\n",
        "print(\"Test nulls:\\n\", test_df.isnull().sum())\n",
        "\n",
        "# Fill or drop nulls (simple fill strategy shown here)\n",
        "train_df.fillna(method='ffill', inplace=True)\n",
        "test_df.fillna(method='ffill', inplace=True)\n",
        "\n",
        "# Separate target from features\n",
        "y = train_df['Credit_Score']\n",
        "X = train_df.drop('Credit_Score', axis=1)\n",
        "\n",
        "# Combine train and test for consistent encoding\n",
        "combined = pd.concat([X, test_df], axis=0)\n",
        "\n",
        "# Encode categorical columns\n",
        "# Encode categorical columns safely\n",
        "label_encoders = {}\n",
        "\n",
        "for col in combined.select_dtypes(include=['object', 'float64', 'int64']).columns:\n",
        "    if combined[col].dtype == 'object' or combined[col].nunique() < 20:  # heuristic for categorical\n",
        "        combined[col] = combined[col].astype(str)  # convert everything to string\n",
        "        le = LabelEncoder()\n",
        "        combined[col] = le.fit_transform(combined[col])\n",
        "        label_encoders[col] = le\n",
        "\n",
        "\n",
        "# Split back\n",
        "X_encoded = combined[:len(X)]\n",
        "test_encoded = combined[len(X):]\n",
        "\n",
        "# Scale features\n",
        "scaler = StandardScaler()\n",
        "X_scaled = scaler.fit_transform(X_encoded)\n",
        "test_scaled = scaler.transform(test_encoded)\n",
        "\n",
        "# Now use `X_scaled` and `y` for training\n",
        "# Use `test_scaled` for inference/prediction later\n"
      ]
    },
    {
      "cell_type": "code",
      "execution_count": null,
      "metadata": {
        "id": "xzOhY8T2H_aO"
      },
      "outputs": [],
      "source": [
        "target_le = LabelEncoder()\n",
        "y_encoded = target_le.fit_transform(y)\n"
      ]
    },
    {
      "cell_type": "code",
      "execution_count": null,
      "metadata": {
        "id": "kSgYUjsSL4L8"
      },
      "outputs": [],
      "source": [
        "from sklearn.model_selection import train_test_split\n",
        "\n",
        "X_train, X_val, y_train, y_val = train_test_split(X_scaled, y_encoded, test_size=0.2, random_state=42)\n"
      ]
    },
    {
      "cell_type": "code",
      "execution_count": null,
      "metadata": {
        "id": "4W5atihFL7Wq"
      },
      "outputs": [],
      "source": [
        "knn = KNeighborsClassifier()\n",
        "knn.fit(X_train, y_train)\n",
        "y_pred_knn = knn.predict(X_val)\n"
      ]
    },
    {
      "cell_type": "code",
      "execution_count": null,
      "metadata": {
        "id": "6XinmQwzOHEx"
      },
      "outputs": [],
      "source": [
        "from sklearn.ensemble import RandomForestClassifier\n",
        "\n",
        "# Initialize the Random Forest model\n",
        "rf = RandomForestClassifier(\n",
        "    n_estimators=100,\n",
        "    max_depth=10,\n",
        "    random_state=42,\n",
        "    n_jobs=-1\n",
        ")\n",
        "\n",
        "# Train the model\n",
        "rf.fit(X_train, y_train)\n",
        "\n",
        "# Predict on validation set\n",
        "y_pred_rf = rf.predict(X_val)\n",
        "\n",
        "# (You can evaluate or use y_pred_rf later as needed)\n"
      ]
    },
    {
      "cell_type": "code",
      "execution_count": null,
      "metadata": {
        "colab": {
          "background_save": true,
          "base_uri": "https://localhost:8080/"
        },
        "id": "FOtJkv8UPL0D",
        "outputId": "6b826151-4aef-43cb-92ac-a3094761ab24"
      },
      "outputs": [
        {
          "name": "stdout",
          "output_type": "stream",
          "text": [
            "K-Means Silhouette Score: 0.0538\n"
          ]
        }
      ],
      "source": [
        "kmeans = KMeans(n_clusters=len(np.unique(y_encoded)), random_state=42)\n",
        "cluster_labels = kmeans.fit_predict(X_scaled)\n",
        "\n",
        "from sklearn.metrics import silhouette_score\n",
        "sil_score = silhouette_score(X_scaled, cluster_labels)\n",
        "print(f\"K-Means Silhouette Score: {sil_score:.4f}\")\n"
      ]
    },
    {
      "cell_type": "code",
      "execution_count": null,
      "metadata": {
        "id": "IKZRhKPbPhpU"
      },
      "outputs": [],
      "source": [
        "from sklearn.metrics import accuracy_score, f1_score, recall_score, confusion_matrix, ConfusionMatrixDisplay\n",
        "from sklearn.metrics import silhouette_score, adjusted_rand_score\n",
        "import matplotlib.pyplot as plt\n"
      ]
    },
    {
      "cell_type": "code",
      "execution_count": null,
      "metadata": {
        "colab": {
          "base_uri": "https://localhost:8080/"
        },
        "id": "EdIZ96rbUUTV",
        "outputId": "b73769ee-a41d-41d6-b602-33120b60f074"
      },
      "outputs": [
        {
          "name": "stdout",
          "output_type": "stream",
          "text": [
            "KNN Metrics:\n",
            "Accuracy: 0.6305\n",
            "F1 Score: 0.6295\n",
            "Recall: 0.6305\n",
            "\n",
            "Random Forest Metrics:\n",
            "Accuracy: 0.7107\n",
            "F1 Score: 0.7116\n",
            "Recall: 0.7107\n",
            "\n"
          ]
        }
      ],
      "source": [
        "knn_accuracy = accuracy_score(y_val, y_pred_knn)\n",
        "knn_f1 = f1_score(y_val, y_pred_knn, average='weighted')\n",
        "knn_recall = recall_score(y_val, y_pred_knn, average='weighted')\n",
        "\n",
        "# Calculate metrics for Random Forest\n",
        "rf_accuracy = accuracy_score(y_val, y_pred_rf)\n",
        "rf_f1 = f1_score(y_val, y_pred_rf, average='weighted')\n",
        "rf_recall = recall_score(y_val, y_pred_rf, average='weighted')\n",
        "\n",
        "print(\"KNN Metrics:\")\n",
        "print(f\"Accuracy: {knn_accuracy:.4f}\")\n",
        "print(f\"F1 Score: {knn_f1:.4f}\")\n",
        "print(f\"Recall: {knn_recall:.4f}\\n\")\n",
        "\n",
        "print(\"Random Forest Metrics:\")\n",
        "print(f\"Accuracy: {rf_accuracy:.4f}\")\n",
        "print(f\"F1 Score: {rf_f1:.4f}\")\n",
        "print(f\"Recall: {rf_recall:.4f}\\n\")"
      ]
    },
    {
      "cell_type": "code",
      "execution_count": null,
      "metadata": {
        "colab": {
          "base_uri": "https://localhost:8080/",
          "height": 447
        },
        "id": "EseqvuDTUyla",
        "outputId": "bd233a8a-225e-48c7-9e38-a577e18ca91a"
      },
      "outputs": [
        {
          "data": {
            "image/png": "[encoded data removed]",
            "text/plain": [
              "<Figure size 1200x500 with 4 Axes>"
            ]
          },
          "metadata": {},
          "output_type": "display_data"
        }
      ],
      "source": [
        "fig, axs = plt.subplots(1, 2, figsize=(12, 5))\n",
        "\n",
        "ConfusionMatrixDisplay.from_predictions(y_val, y_pred_knn, ax=axs[0], cmap='Blues')\n",
        "axs[0].set_title('KNN Confusion Matrix')\n",
        "\n",
        "ConfusionMatrixDisplay.from_predictions(y_val, y_pred_rf, ax=axs[1], cmap='Greens')\n",
        "axs[1].set_title('Random Forest Confusion Matrix')\n",
        "\n",
        "plt.show()\n"
      ]
    },
    {
      "cell_type": "code",
      "execution_count": null,
      "metadata": {
        "colab": {
          "base_uri": "https://localhost:8080/",
          "height": 541
        },
        "id": "xF9SHwY4U242",
        "outputId": "e1aa18c8-6fb9-4720-f21e-359b8cc7afa0"
      },
      "outputs": [
        {
          "name": "stdout",
          "output_type": "stream",
          "text": [
            "K-Means Metrics (after mapping clusters to labels):\n",
            "Accuracy: 0.4794\n",
            "F1 Score: 0.4887\n",
            "Recall: 0.4794\n"
          ]
        },
        {
          "data": {
            "image/png": "[encoded data removed]",
            "text/plain": [
              "<Figure size 640x480 with 2 Axes>"
            ]
          },
          "metadata": {},
          "output_type": "display_data"
        }
      ],
      "source": [
        "import numpy as np\n",
        "from sklearn.metrics import accuracy_score, f1_score, recall_score, confusion_matrix, ConfusionMatrixDisplay\n",
        "from scipy.optimize import linear_sum_assignment\n",
        "import matplotlib.pyplot as plt\n",
        "\n",
        "# cluster_labels: predicted cluster labels from KMeans (e.g., kmeans.fit_predict(X_scaled))\n",
        "# y_encoded: true labels encoded as integers\n",
        "\n",
        "# 1. Map clusters to true labels using Hungarian Algorithm (best matching)\n",
        "def map_clusters_to_labels(true_labels, cluster_labels):\n",
        "    # Create confusion matrix between clusters and true labels\n",
        "    conf_matrix = confusion_matrix(true_labels, cluster_labels)\n",
        "\n",
        "    # Use Hungarian algorithm to find best one-to-one assignment\n",
        "    row_ind, col_ind = linear_sum_assignment(-conf_matrix)  # maximize matching\n",
        "\n",
        "    # Create mapping from cluster to label\n",
        "    cluster_to_label = dict(zip(col_ind, row_ind))\n",
        "\n",
        "    # Map each cluster label to the matched true label\n",
        "    mapped_labels = np.array([cluster_to_label[cluster] for cluster in cluster_labels])\n",
        "\n",
        "    return mapped_labels\n",
        "\n",
        "# Map clusters to labels\n",
        "kmeans_mapped_labels = map_clusters_to_labels(y_encoded, cluster_labels)\n",
        "\n",
        "# 2. Calculate classification metrics treating mapped clusters as predictions\n",
        "kmeans_accuracy = accuracy_score(y_encoded, kmeans_mapped_labels)\n",
        "kmeans_f1 = f1_score(y_encoded, kmeans_mapped_labels, average='weighted')\n",
        "kmeans_recall = recall_score(y_encoded, kmeans_mapped_labels, average='weighted')\n",
        "\n",
        "print(\"K-Means Metrics (after mapping clusters to labels):\")\n",
        "print(f\"Accuracy: {kmeans_accuracy:.4f}\")\n",
        "print(f\"F1 Score: {kmeans_f1:.4f}\")\n",
        "print(f\"Recall: {kmeans_recall:.4f}\")\n",
        "\n",
        "# 3. Plot confusion matrix for K-Means clusters vs true labels\n",
        "ConfusionMatrixDisplay.from_predictions(y_encoded, kmeans_mapped_labels, cmap='Purples')\n",
        "plt.title('K-Means Confusion Matrix (Mapped Clusters)')\n",
        "plt.show()\n"
      ]
    },
    {
      "cell_type": "code",
      "execution_count": null,
      "metadata": {
        "colab": {
          "base_uri": "https://localhost:8080/"
        },
        "id": "-jhnmymZY1Rh",
        "outputId": "34c7da17-2086-4e0f-ebf8-a25a63acb3ea"
      },
      "outputs": [
        {
          "name": "stdout",
          "output_type": "stream",
          "text": [
            "Fitting 3 folds for each of 10 candidates, totalling 30 fits\n"
          ]
        },
        {
          "name": "stderr",
          "output_type": "stream",
          "text": [
            "/usr/local/lib/python3.11/dist-packages/sklearn/model_selection/_validation.py:528: FitFailedWarning: \n",
            "21 fits failed out of a total of 30.\n",
            "The score on these train-test partitions for these parameters will be set to nan.\n",
            "If these failures are not expected, you can try to debug them by setting error_score='raise'.\n",
            "\n",
            "Below are more details about the failures:\n",
            "--------------------------------------------------------------------------------\n",
            "21 fits failed with the following error:\n",
            "Traceback (most recent call last):\n",
            "  File \"/usr/local/lib/python3.11/dist-packages/sklearn/model_selection/_validation.py\", line 866, in _fit_and_score\n",
            "    estimator.fit(X_train, y_train, **fit_params)\n",
            "  File \"/usr/local/lib/python3.11/dist-packages/sklearn/base.py\", line 1382, in wrapper\n",
            "    estimator._validate_params()\n",
            "  File \"/usr/local/lib/python3.11/dist-packages/sklearn/base.py\", line 436, in _validate_params\n",
            "    validate_parameter_constraints(\n",
            "  File \"/usr/local/lib/python3.11/dist-packages/sklearn/utils/_param_validation.py\", line 98, in validate_parameter_constraints\n",
            "    raise InvalidParameterError(\n",
            "sklearn.utils._param_validation.InvalidParameterError: The 'max_features' parameter of RandomForestClassifier must be an int in the range [1, inf), a float in the range (0.0, 1.0], a str among {'log2', 'sqrt'} or None. Got 'auto' instead.\n",
            "\n",
            "  warnings.warn(some_fits_failed_message, FitFailedWarning)\n",
            "/usr/local/lib/python3.11/dist-packages/sklearn/model_selection/_search.py:1108: UserWarning: One or more of the test scores are non-finite: [       nan 0.730625   0.70125           nan        nan        nan\n",
            "        nan        nan 0.70229167        nan]\n",
            "  warnings.warn(\n"
          ]
        },
        {
          "name": "stdout",
          "output_type": "stream",
          "text": [
            "Best Parameters: {'n_estimators': 300, 'min_samples_split': 2, 'min_samples_leaf': 1, 'max_features': 'sqrt', 'max_depth': None}\n"
          ]
        }
      ],
      "source": [
        "from sklearn.model_selection import RandomizedSearchCV, train_test_split\n",
        "from sklearn.ensemble import RandomForestClassifier\n",
        "\n",
        "# Sample 30% of training data for faster tuning\n",
        "X_sample, _, y_sample, _ = train_test_split(X_train, y_train, train_size=0.3, random_state=42)\n",
        "\n",
        "# Define a smaller parameter grid for quicker search\n",
        "param_dist = {\n",
        "    'n_estimators': [100, 200, 300],         # fewer options\n",
        "    'max_depth': [10, 20, None],             # limited depth options\n",
        "    'min_samples_split': [2, 5],             # fewer options\n",
        "    'min_samples_leaf': [1, 2],              # fewer options\n",
        "    'max_features': ['auto', 'sqrt']         # common choices only\n",
        "}\n",
        "\n",
        "rf = RandomForestClassifier(random_state=42, n_jobs=-1)\n",
        "\n",
        "random_search = RandomizedSearchCV(\n",
        "    estimator=rf,\n",
        "    param_distributions=param_dist,\n",
        "    n_iter=10,          # fewer iterations\n",
        "    cv=3,               # 3-fold CV\n",
        "    verbose=2,\n",
        "    random_state=42,\n",
        "    n_jobs=-1,\n",
        "    scoring='accuracy'\n",
        ")\n",
        "\n",
        "# Fit on the smaller sample\n",
        "random_search.fit(X_sample, y_sample)\n",
        "\n",
        "print(\"Best Parameters:\", random_search.best_params_)\n",
        "best_rf = random_search.best_estimator_\n",
        "\n",
        "# Predict on full validation set\n",
        "y_pred_best_rf = best_rf.predict(X_val)\n"
      ]
    },
    {
      "cell_type": "code",
      "execution_count": null,
      "metadata": {
        "colab": {
          "base_uri": "https://localhost:8080/"
        },
        "id": "uz1TrFFneXLm",
        "outputId": "0c7a83c7-2966-4548-d29b-6ea36e64f6d4"
      },
      "outputs": [
        {
          "name": "stdout",
          "output_type": "stream",
          "text": [
            "Best hyperparameters found: {'n_estimators': 300, 'min_samples_split': 2, 'min_samples_leaf': 1, 'max_features': 'sqrt', 'max_depth': None}\n"
          ]
        }
      ],
      "source": [
        "print(\"Best hyperparameters found:\", random_search.best_params_)\n"
      ]
    },
    {
      "cell_type": "code",
      "execution_count": null,
      "metadata": {
        "colab": {
          "base_uri": "https://localhost:8080/"
        },
        "id": "23gDSbnjfFq4",
        "outputId": "aa8e9b69-03c5-4577-c8ce-8c698500602d"
      },
      "outputs": [
        {
          "name": "stdout",
          "output_type": "stream",
          "text": [
            "Tuned Random Forest Performance on Validation Set:\n",
            "Accuracy: 0.7470\n",
            "F1 Score: 0.7467\n",
            "Recall: 0.7470\n"
          ]
        }
      ],
      "source": [
        "from sklearn.metrics import accuracy_score, f1_score, recall_score\n",
        "\n",
        "best_rf = random_search.best_estimator_\n",
        "y_pred_best_rf = best_rf.predict(X_val)\n",
        "\n",
        "print(\"Tuned Random Forest Performance on Validation Set:\")\n",
        "print(f\"Accuracy: {accuracy_score(y_val, y_pred_best_rf):.4f}\")\n",
        "print(f\"F1 Score: {f1_score(y_val, y_pred_best_rf, average='weighted'):.4f}\")\n",
        "print(f\"Recall: {recall_score(y_val, y_pred_best_rf, average='weighted'):.4f}\")\n"
      ]
    },
    {
      "cell_type": "code",
      "execution_count": null,
      "metadata": {
        "colab": {
          "base_uri": "https://localhost:8080/"
        },
        "id": "BqT8x1PDfJyv",
        "outputId": "1bee8e2f-5383-4827-926a-addd09193ece"
      },
      "outputs": [
        {
          "name": "stdout",
          "output_type": "stream",
          "text": [
            "Random Forest with class_weight='balanced' Performance:\n",
            "Accuracy: 0.7961\n",
            "F1 Score: 0.7957\n",
            "Recall: 0.7961\n"
          ]
        }
      ],
      "source": [
        "from sklearn.ensemble import RandomForestClassifier\n",
        "from sklearn.metrics import accuracy_score, f1_score, recall_score\n",
        "\n",
        "# Initialize Random Forest with class_weight balanced\n",
        "rf_balanced = RandomForestClassifier(\n",
        "    n_estimators=300,\n",
        "    max_depth=30,\n",
        "    class_weight='balanced',\n",
        "    random_state=42,\n",
        "    n_jobs=-1\n",
        ")\n",
        "\n",
        "# Train on the training data\n",
        "rf_balanced.fit(X_train, y_train)\n",
        "\n",
        "# Predict on validation set\n",
        "y_pred_balanced = rf_balanced.predict(X_val)\n",
        "\n",
        "# Evaluate\n",
        "print(\"Random Forest with class_weight='balanced' Performance:\")\n",
        "print(f\"Accuracy: {accuracy_score(y_val, y_pred_balanced):.4f}\")\n",
        "print(f\"F1 Score: {f1_score(y_val, y_pred_balanced, average='weighted'):.4f}\")\n",
        "print(f\"Recall: {recall_score(y_val, y_pred_balanced, average='weighted'):.4f}\")\n"
      ]
    },
    {
      "cell_type": "code",
      "execution_count": null,
      "metadata": {
        "colab": {
          "base_uri": "https://localhost:8080/",
          "height": 541
        },
        "id": "r1-4yZdYfj6f",
        "outputId": "6bddd9e4-a0cd-49b1-cb30-ad3c2a5dd0d3"
      },
      "outputs": [
        {
          "name": "stdout",
          "output_type": "stream",
          "text": [
            "Confusion Matrix:\n",
            "[[2548   14  965]\n",
            " [  50 4696 1128]\n",
            " [ 698 1223 8678]]\n"
          ]
        },
        {
          "data": {
            "image/png": "[encoded data removed]",
            "text/plain": [
              "<Figure size 640x480 with 2 Axes>"
            ]
          },
          "metadata": {},
          "output_type": "display_data"
        }
      ],
      "source": [
        "from sklearn.metrics import confusion_matrix, ConfusionMatrixDisplay\n",
        "import matplotlib.pyplot as plt\n",
        "\n",
        "# y_val: true labels for your validation set\n",
        "# y_pred_balanced: predictions from your latest Random Forest model\n",
        "\n",
        "# Compute confusion matrix\n",
        "cm = confusion_matrix(y_val, y_pred_balanced)\n",
        "print(\"Confusion Matrix:\")\n",
        "print(cm)\n",
        "\n",
        "# Plot confusion matrix\n",
        "disp = ConfusionMatrixDisplay(confusion_matrix=cm)\n",
        "disp.plot(cmap=plt.cm.Blues)\n",
        "plt.title(\"Confusion Matrix - Random Forest (class_weight='balanced')\")\n",
        "plt.show()\n"
      ]
    },
    {
      "cell_type": "code",
      "execution_count": null,
      "metadata": {
        "colab": {
          "base_uri": "https://localhost:8080/",
          "height": 545
        },
        "id": "bjT-NyzchVfy",
        "outputId": "f63d60e5-19bc-4e4c-b7d3-11ac73a35022"
      },
      "outputs": [
        {
          "data": {
            "image/png": "[encoded data removed]",
            "text/plain": [
              "<Figure size 1000x600 with 1 Axes>"
            ]
          },
          "metadata": {},
          "output_type": "display_data"
        }
      ],
      "source": [
        "from sklearn.cluster import KMeans\n",
        "from sklearn.metrics import accuracy_score, f1_score, recall_score\n",
        "from sklearn.metrics import ConfusionMatrixDisplay\n",
        "import matplotlib.pyplot as plt\n",
        "import numpy as np\n",
        "\n",
        "# --- Assuming you have these variables already defined ---\n",
        "# X_scaled: scaled features for the entire dataset (train + val + test)\n",
        "# X_val: scaled features for validation set\n",
        "# y_val: true labels for validation set\n",
        "# y_pred_knn: KNN predictions on validation set\n",
        "# y_pred_balanced: Random Forest (balanced) predictions on validation set\n",
        "# y_encoded: encoded true labels for entire dataset (used for KMeans mapping)\n",
        "\n",
        "# --- 1. Fit KMeans on entire scaled dataset ---\n",
        "n_clusters = len(np.unique(y_encoded))  # number of unique classes\n",
        "kmeans = KMeans(n_clusters=n_clusters, random_state=42)\n",
        "kmeans.fit(X_scaled)\n",
        "\n",
        "# --- 2. Predict cluster labels for validation set only ---\n",
        "kmeans_val_labels = kmeans.predict(X_val)\n",
        "\n",
        "# --- 3. Map clusters to true labels on validation set ---\n",
        "from sklearn.metrics import confusion_matrix\n",
        "from scipy.optimize import linear_sum_assignment\n",
        "\n",
        "def map_clusters_to_labels(true_labels, cluster_labels):\n",
        "    conf_matrix = confusion_matrix(true_labels, cluster_labels)\n",
        "    row_ind, col_ind = linear_sum_assignment(-conf_matrix)\n",
        "    cluster_to_label = dict(zip(col_ind, row_ind))\n",
        "    mapped_labels = np.array([cluster_to_label[cluster] for cluster in cluster_labels])\n",
        "    return mapped_labels\n",
        "\n",
        "kmeans_val_mapped_labels = map_clusters_to_labels(y_val, kmeans_val_labels)\n",
        "\n",
        "# --- 4. Calculate metrics for all three models ---\n",
        "\n",
        "# KNN metrics\n",
        "knn_acc = accuracy_score(y_val, y_pred_knn)\n",
        "knn_f1 = f1_score(y_val, y_pred_knn, average='weighted')\n",
        "knn_recall = recall_score(y_val, y_pred_knn, average='weighted')\n",
        "\n",
        "# Random Forest (balanced) metrics\n",
        "rf_acc = accuracy_score(y_val, y_pred_balanced)\n",
        "rf_f1 = f1_score(y_val, y_pred_balanced, average='weighted')\n",
        "rf_recall = recall_score(y_val, y_pred_balanced, average='weighted')\n",
        "\n",
        "# K-Means metrics (mapped clusters)\n",
        "kmeans_acc = accuracy_score(y_val, kmeans_val_mapped_labels)\n",
        "kmeans_f1 = f1_score(y_val, kmeans_val_mapped_labels, average='weighted')\n",
        "kmeans_recall = recall_score(y_val, kmeans_val_mapped_labels, average='weighted')\n",
        "\n",
        "# --- 5. Plot bar chart comparing the models ---\n",
        "\n",
        "metrics = ['Accuracy', 'F1 Score', 'Recall']\n",
        "knn_scores = [knn_acc, knn_f1, knn_recall]\n",
        "rf_scores = [rf_acc, rf_f1, rf_recall]\n",
        "kmeans_scores = [kmeans_acc, kmeans_f1, kmeans_recall]\n",
        "\n",
        "x = np.arange(len(metrics))\n",
        "width = 0.25\n",
        "\n",
        "plt.figure(figsize=(10,6))\n",
        "plt.bar(x - width, knn_scores, width, label='KNN')\n",
        "plt.bar(x, rf_scores, width, label='Random Forest (balanced)')\n",
        "plt.bar(x + width, kmeans_scores, width, label='K-Means (mapped)')\n",
        "\n",
        "plt.xticks(x, metrics)\n",
        "plt.ylim(0, 1)\n",
        "plt.ylabel('Score')\n",
        "plt.title('Model Performance Comparison')\n",
        "plt.legend()\n",
        "plt.grid(axis='y', linestyle='--', alpha=0.7)\n",
        "plt.show()\n"
      ]
    },
    {
      "cell_type": "code",
      "execution_count": null,
      "metadata": {
        "id": "MTvA6Vhkh8lY"
      },
      "outputs": [],
      "source": []
    }
  ],
  "metadata": {
    "colab": {
      "provenance": []
    },
    "kernelspec": {
      "display_name": "Python 3",
      "name": "python3"
    },
    "language_info": {
      "name": "python"
    }
  },
  "nbformat": 4,
  "nbformat_minor": 0
}